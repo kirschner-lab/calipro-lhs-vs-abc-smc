{
 "cells": [
  {
   "cell_type": "code",
   "execution_count": null,
   "id": "7767e664",
   "metadata": {},
   "outputs": [],
   "source": [
    "import arviz as az\n",
    "import matplotlib.pyplot as plt\n",
    "import numpy as np\n",
    "import pandas as pd\n",
    "import pymc as pm\n",
    "from plotnine import ggplot, aes, geom_point, stat_function\n",
    "from scipy.integrate import odeint\n",
    "\n",
    "\n",
    "def lotka_volterra(X, t, a, b, c, d):\n",
    "    '''Return growth rate of prey and predator populations.'''\n",
    "    return np.array([a*X[0] - b*X[0]*X[1],\n",
    "                     -c*X[1] + d*b*X[0]*X[1]])\n",
    "\n",
    "\n",
    "def simulate_lotka_volterra(rng, a, b, c, d, size=None):\n",
    "    return odeint(lotka_volterra, X0, time, rtol=0.01, args=(a, b, c, d))\n",
    "\n",
    "\n",
    "def as_df(observed):\n",
    "    return pd.DataFrame(np.column_stack((time, observed)),\n",
    "                        columns=['time', 'prey', 'predator'])\n",
    "\n",
    "\n",
    "def as_df_long(observed):\n",
    "    return as_df(observed).melt('time')\n",
    "\n",
    "\n",
    "def simulate_df_long(a, b):\n",
    "    return as_df_long(simulate_lotka_volterra(None, a, b, c, d, size=None))\n",
    "\n",
    "\n",
    "# Ground truth parameters to create data before adding any noise.\n",
    "a = 1.0\n",
    "b = 0.1\n",
    "c = 1.5\n",
    "d = 0.75\n",
    "\n",
    "# Initial populations of prey and predator.\n",
    "X0 = [10.0, 5.0]\n",
    "# Time points.\n",
    "n_steps = 100\n",
    "time_end = 15\n",
    "time = np.linspace(0, time_end, n_steps)\n",
    "\n",
    "# Observations with noise.\n",
    "observed = (simulate_lotka_volterra(None, a, b, c, d) +\n",
    "            np.random.normal(size=(n_steps, 2)) +\n",
    "            np.random.normal(size=(n_steps, 2)))"
   ]
  },
  {
   "cell_type": "code",
   "execution_count": null,
   "id": "7cfb3212",
   "metadata": {},
   "outputs": [],
   "source": [
    "(ggplot(as_df_long(observed),\n",
    "        aes('time', 'value',\n",
    "            group='variable',\n",
    "            color='variable')) +\n",
    " geom_point())"
   ]
  },
  {
   "cell_type": "code",
   "execution_count": null,
   "id": "9052a6ee",
   "metadata": {},
   "outputs": [],
   "source": [
    "# Create the model class instead of using a context manager (\"with\" statement)\n",
    "# because the latter throws multiprocessing errors when running from a jupyter\n",
    "# notebook.\n",
    "class ModelLV(pm.Model):\n",
    "    def __init__(self, name=''):\n",
    "        super().__init__(name)\n",
    "        a = pm.HalfNormal('a', 1.0)\n",
    "        b = pm.HalfNormal('b', 1.0)\n",
    "        c = pm.ConstantData('c', 1.5)\n",
    "        d = pm.ConstantData('d', 0.75)\n",
    "        # Simulator \"distribution\" for Approximate Bayesian Computing (ABC) with\n",
    "        # Squential Monte Carlo (SMC) sampling for pm.sample_smc().\n",
    "        # \n",
    "        # Instead of specifying a likelihood function, simulates from the model.\n",
    "        sim = pm.Simulator('sim',\n",
    "                           simulate_lotka_volterra,\n",
    "                           params=(a, b, c, d),\n",
    "                           epsilon=10,\n",
    "                           observed=observed)\n",
    "\n",
    "\n",
    "model = ModelLV()\n",
    "print(__name__)\n",
    "\n",
    "# Collect inference data.\n",
    "idata_lv = pm.sample_smc(model=model, progressbar=False)"
   ]
  },
  {
   "cell_type": "code",
   "execution_count": null,
   "id": "e49122f6",
   "metadata": {},
   "outputs": [],
   "source": [
    "idata_lv"
   ]
  },
  {
   "cell_type": "code",
   "execution_count": null,
   "id": "c0a09899",
   "metadata": {},
   "outputs": [],
   "source": [
    "az.plot_trace(idata_lv, kind='rank_vlines')\n",
    "plt.show()"
   ]
  },
  {
   "cell_type": "code",
   "execution_count": null,
   "id": "9c996069",
   "metadata": {},
   "outputs": [],
   "source": [
    "az.plot_posterior(idata_lv)\n",
    "plt.show()"
   ]
  },
  {
   "cell_type": "code",
   "execution_count": null,
   "id": "8cab8d62",
   "metadata": {},
   "outputs": [],
   "source": [
    "posterior = idata_lv.posterior.stack(samples=('draw', 'chain'))\n"
   ]
  }
 ],
 "metadata": {
  "execution": {
   "timeout": 1000
  },
  "kernelspec": {
   "display_name": "Python 3 (ipykernel)",
   "language": "python",
   "name": "python3"
  },
  "language_info": {
   "codemirror_mode": {
    "name": "ipython",
    "version": 3
   },
   "file_extension": ".py",
   "mimetype": "text/x-python",
   "name": "python",
   "nbconvert_exporter": "python",
   "pygments_lexer": "ipython3",
   "version": "3.10.8"
  }
 },
 "nbformat": 4,
 "nbformat_minor": 5
}
